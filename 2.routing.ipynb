{
 "cells": [
  {
   "cell_type": "code",
   "execution_count": 15,
   "id": "b46aff08",
   "metadata": {},
   "outputs": [],
   "source": [
    "from langchain_core.prompts import ChatPromptTemplate\n",
    "from langchain_core.output_parsers import StrOutputParser\n",
    "from langchain_core.runnables import RunnablePassthrough, RunnableBranch\n",
    "from langchain_ollama import ChatOllama\n",
    "from langchain_core.runnables import RunnableLambda\n",
    "import re"
   ]
  },
  {
   "cell_type": "code",
   "execution_count": 16,
   "id": "6f6bb075",
   "metadata": {},
   "outputs": [],
   "source": [
    "\n",
    "# --- Define Simulated Sub-Agent Handlers (equivalent to ADK sub_agents) ---\n",
    "def booking_handler(request: str) -> str:\n",
    "   \"\"\"Simulates the Booking Agent handling a request.\"\"\"\n",
    "   print(\"\\n--- DELEGATING TO BOOKING HANDLER ---\")\n",
    "   return f\"Booking Handler processed request: '{request}'. Result: Simulated booking action.\"\n",
    "\n",
    "def info_handler(request: str) -> str:\n",
    "   \"\"\"Simulates the Info Agent handling a request.\"\"\"\n",
    "   print(\"\\n--- DELEGATING TO INFO HANDLER ---\")\n",
    "   return f\"Info Handler processed request: '{request}'. Result: Simulated information retrieval.\"\n",
    "\n",
    "def unclear_handler(request: str) -> str:\n",
    "   \"\"\"Handles requests that couldn't be delegated.\"\"\"\n",
    "   print(\"\\n--- HANDLING UNCLEAR REQUEST ---\")\n",
    "   return f\"Coordinator could not delegate request: '{request}'. Please clarify.\"\n"
   ]
  },
  {
   "cell_type": "code",
   "execution_count": 17,
   "id": "f4efa0ca",
   "metadata": {},
   "outputs": [],
   "source": [
    "def strip_think(text: str) -> str:\n",
    "    # Removes any <think>...</think> blocks DeepSeek might include\n",
    "    return re.sub(r\"<think>.*?</think>\\s*\", \"\", text, flags=re.DOTALL | re.IGNORECASE)\n",
    "\n",
    "stripper = RunnableLambda(strip_think)\n"
   ]
  },
  {
   "cell_type": "code",
   "execution_count": 18,
   "id": "afd7ee12",
   "metadata": {},
   "outputs": [
    {
     "name": "stdout",
     "output_type": "stream",
     "text": [
      "\n",
      "--- DELEGATING TO BOOKING HANDLER ---\n"
     ]
    },
    {
     "data": {
      "text/plain": [
       "\"Booking Handler processed request: 'Test'. Result: Simulated booking action.\""
      ]
     },
     "execution_count": 18,
     "metadata": {},
     "output_type": "execute_result"
    }
   ],
   "source": [
    "booking_handler(\"Test\")"
   ]
  },
  {
   "cell_type": "code",
   "execution_count": 19,
   "id": "ae6fdd00",
   "metadata": {},
   "outputs": [],
   "source": [
    "llm = ChatOllama(model=\"deepseek-r1:8b\", temperature=0)"
   ]
  },
  {
   "cell_type": "code",
   "execution_count": 20,
   "id": "91a79bbb",
   "metadata": {},
   "outputs": [],
   "source": [
    "# --- Define Coordinator Router Chain (equivalent to ADK coordinator's instruction) ---\n",
    "# This chain decides which handler to delegate to.\n",
    "coordinator_router_prompt = ChatPromptTemplate.from_messages([\n",
    "   (\"system\", \"\"\"Analyze the user's request and determine which specialist handler should process it.\n",
    "    - If the request is related to booking flights or hotels, \n",
    "      output 'booker'.\n",
    "    - For all other general information questions, output 'info'.\n",
    "    - If the request is unclear or doesn't fit either category, \n",
    "      output 'unclear'.\n",
    "    ONLY output one word: 'booker', 'info', or 'unclear'.\"\"\"),\n",
    "   (\"user\", \"{request}\")\n",
    "])\n"
   ]
  },
  {
   "cell_type": "code",
   "execution_count": 21,
   "id": "ba3c48ed",
   "metadata": {},
   "outputs": [
    {
     "name": "stdout",
     "output_type": "stream",
     "text": [
      "--- Running with a booking request ---\n",
      "\n",
      "--- DELEGATING TO BOOKING HANDLER ---\n",
      "Final Result A: Booking Handler processed request: 'Book me a flight to London.'. Result: Simulated booking action.\n",
      "\n",
      "--- Running with an info request ---\n",
      "\n",
      "--- DELEGATING TO INFO HANDLER ---\n",
      "Final Result B: Info Handler processed request: 'What is the capital of Italy?'. Result: Simulated information retrieval.\n",
      "\n",
      "--- Running with an unclear request ---\n",
      "\n",
      "--- DELEGATING TO INFO HANDLER ---\n",
      "Final Result C: Info Handler processed request: 'Tell me about quantum physics.'. Result: Simulated information retrieval.\n"
     ]
    }
   ],
   "source": [
    "if llm:\n",
    "   coordinator_router_chain = coordinator_router_prompt | llm | StrOutputParser()|stripper\n",
    "\n",
    "# --- Define the Delegation Logic (equivalent to ADK's Auto-Flow based on sub_agents) ---\n",
    "\n",
    "# Define the branches for the RunnableBranch\n",
    "branches = {\n",
    "   \"booker\": RunnablePassthrough.assign(output=lambda x: booking_handler(x['request']['request'])),\n",
    "   \"info\": RunnablePassthrough.assign(output=lambda x: info_handler(x['request']['request'])),\n",
    "   \"unclear\": RunnablePassthrough.assign(output=lambda x: unclear_handler(x['request']['request'])),\n",
    "}\n",
    "# Create the RunnableBranch. It takes the output of the router chain\n",
    "# and routes the original input ('request') to the corresponding handler.\n",
    "delegation_branch = RunnableBranch(\n",
    "   (lambda x: x['decision'].strip() == 'booker', branches[\"booker\"]), # Added .strip()\n",
    "   (lambda x: x['decision'].strip() == 'info', branches[\"info\"]),     # Added .strip()\n",
    "   branches[\"unclear\"] # Default branch for 'unclear' or any other output\n",
    ")\n",
    "# Combine the router chain and the delegation branch into a single runnable\n",
    "# The router chain's output ('decision') is passed along with the original input ('request')\n",
    "# to the delegation_branch.\n",
    "coordinator_agent = {\n",
    "   \"decision\": coordinator_router_chain,\n",
    "   \"request\": RunnablePassthrough()\n",
    "} | delegation_branch | (lambda x: x['output']) | stripper # Extract the final output\n",
    "\n",
    "# --- Example Usage ---\n",
    "def main():\n",
    "   if not llm:\n",
    "       print(\"\\nSkipping execution due to LLM initialization failure.\")\n",
    "       return\n",
    "\n",
    "   print(\"--- Running with a booking request ---\")\n",
    "   request_a = \"Book me a flight to London.\"\n",
    "   result_a = coordinator_agent.invoke({\"request\": request_a})\n",
    "   print(f\"Final Result A: {result_a}\")\n",
    "   print(\"\\n--- Running with an info request ---\")\n",
    "   request_b = \"What is the capital of Italy?\"\n",
    "   result_b = coordinator_agent.invoke({\"request\": request_b})\n",
    "   print(f\"Final Result B: {result_b}\")\n",
    "\n",
    "   print(\"\\n--- Running with an unclear request ---\")\n",
    "   request_c = \"Tell me about quantum physics.\"\n",
    "   result_c = coordinator_agent.invoke({\"request\": request_c})\n",
    "   print(f\"Final Result C: {result_c}\")\n",
    "\n",
    "if __name__ == \"__main__\":\n",
    "   main()\n",
    "\n"
   ]
  },
  {
   "cell_type": "code",
   "execution_count": 10,
   "id": "b3c734d6",
   "metadata": {},
   "outputs": [
    {
     "data": {
      "text/plain": [
       "'<think>\\nOkay, let\\'s see what the user asked here. They want me to analyze their request and determine which specialist handler should process it. The options are either \\'booker\\' for booking flights or hotels, \\'info\\' for general information questions, or \\'unclear\\' if it doesn\\'t fit.\\n\\nThe query is \"Book me a flight to London.\" Hmm, that\\'s straightforward. They\\'re asking to book a flight, which falls under the first category. So I should output \\'booker\\'. \\n\\nWait, maybe I need to double-check. Are there any possible hidden meanings or unclear parts? The user says they want a flight booked to London. No other details like dates or preferences are mentioned, but that\\'s okay because even without specifics, it\\'s still a booking request. So unless the destination is ambiguous, which here it isn\\'t (London is clear), then \\'booker\\' is correct.\\n\\nAlso, considering the examples given in the problem statement: if it\\'s about booking, output \\'booker\\'; otherwise, general info or unclear. Since this is clearly a booking task for flights, there\\'s no need to categorize it as \\'info\\'. The user isn\\'t asking for information about London but wants an action taken by the booker handler.\\n\\nSo yeah, the answer should be \\'booker\\'.\\n</think>\\nbooker'"
      ]
     },
     "execution_count": 10,
     "metadata": {},
     "output_type": "execute_result"
    }
   ],
   "source": [
    "request_a = \"Book me a flight to London.\"\n",
    "coordinator_router_chain.invoke({\"request\": request_a})"
   ]
  },
  {
   "cell_type": "code",
   "execution_count": null,
   "id": "125b1867",
   "metadata": {},
   "outputs": [],
   "source": []
  }
 ],
 "metadata": {
  "kernelspec": {
   "display_name": "Python 3",
   "language": "python",
   "name": "python3"
  },
  "language_info": {
   "codemirror_mode": {
    "name": "ipython",
    "version": 3
   },
   "file_extension": ".py",
   "mimetype": "text/x-python",
   "name": "python",
   "nbconvert_exporter": "python",
   "pygments_lexer": "ipython3",
   "version": "3.12.5"
  }
 },
 "nbformat": 4,
 "nbformat_minor": 5
}
