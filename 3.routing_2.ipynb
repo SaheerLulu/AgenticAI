{
 "cells": [
  {
   "cell_type": "code",
   "execution_count": 76,
   "id": "097d4459",
   "metadata": {},
   "outputs": [],
   "source": [
    "from typing import Callable,Dict, Literal, Optional\n",
    "from langchain_ollama import ChatOllama\n",
    "import re \n",
    "from pydantic import BaseModel, Field\n",
    "from langchain_core.prompts import ChatPromptTemplate\n",
    "from langchain_core.output_parsers import StrOutputParser, JsonOutputParser\n",
    "import uuid"
   ]
  },
  {
   "cell_type": "code",
   "execution_count": 77,
   "id": "76c5aa17",
   "metadata": {},
   "outputs": [],
   "source": [
    "def booking_handler(request: str) -> str:\n",
    "    \"\"\"\n",
    "    Handles booking requests for flights and hotels.\n",
    "    \"\"\"\n",
    "    print(\"-------------------------- Booking Handler Called ----------------------------\")\n",
    "    return f\"Booking action for '{request}' has been simulated.\"\n",
    "\n",
    "def info_handler(request: str) -> str:\n",
    "    \"\"\"\n",
    "    Handles general information requests.\n",
    "    \"\"\"\n",
    "    print(\"-------------------------- Info Handler Called ----------------------------\")\n",
    "    return f\"Information request for '{request}'. Result: Simulated information retrieval.\"\n",
    "\n",
    "def unclear_handler(request: str) -> str:\n",
    "    \"\"\"Handles requests that couldn't be delegated.\"\"\"\n",
    "    return f\"Coordinator could not delegate request: '{request}'. Please clarify.\""
   ]
  },
  {
   "cell_type": "code",
   "execution_count": 78,
   "id": "34c035a2",
   "metadata": {},
   "outputs": [
    {
     "name": "stdout",
     "output_type": "stream",
     "text": [
      "-------------------------- Booking Handler Called ----------------------------\n"
     ]
    },
    {
     "data": {
      "text/plain": [
       "\"Booking action for 'some request' has been simulated.\""
      ]
     },
     "execution_count": 78,
     "metadata": {},
     "output_type": "execute_result"
    }
   ],
   "source": [
    "booking_handler(\"some request\")"
   ]
  },
  {
   "cell_type": "code",
   "execution_count": 79,
   "id": "d42f7f14",
   "metadata": {},
   "outputs": [],
   "source": [
    "# -- Minimal Agent Abstraction -------------\n",
    "class Agent:\n",
    "    def __init__(self, name:str, description:str,tool: Callable[[str],str]):\n",
    "        self.name = name\n",
    "        self.description = description\n",
    "        self.tool = tool\n",
    "    \n",
    "    def run(self,request:str) -> str:\n",
    "        return self.tool(request)\n",
    "    \n",
    "booking_agent = Agent(\n",
    "    name = \"Booker\",\n",
    "    description= \"Handles all the flight and hotel booking request\",\n",
    "    tool = booking_handler,\n",
    ")\n",
    "\n",
    "info_agent = Agent(\n",
    "    name= \"Info\",\n",
    "    description= \"Provdies general information and answers user questions\",\n",
    "    tool= info_handler,\n",
    ")"
   ]
  },
  {
   "cell_type": "code",
   "execution_count": 80,
   "id": "bb31757b",
   "metadata": {},
   "outputs": [
    {
     "name": "stdout",
     "output_type": "stream",
     "text": [
      "-------------------------- Booking Handler Called ----------------------------\n"
     ]
    },
    {
     "data": {
      "text/plain": [
       "\"Booking action for 'my requst' has been simulated.\""
      ]
     },
     "execution_count": 80,
     "metadata": {},
     "output_type": "execute_result"
    }
   ],
   "source": [
    "booking_agent.run(\"my requst\")"
   ]
  },
  {
   "cell_type": "code",
   "execution_count": 81,
   "id": "bd081901",
   "metadata": {},
   "outputs": [
    {
     "data": {
      "text/plain": [
       "'Booker'"
      ]
     },
     "execution_count": 81,
     "metadata": {},
     "output_type": "execute_result"
    }
   ],
   "source": [
    "booking_agent.name"
   ]
  },
  {
   "cell_type": "code",
   "execution_count": 82,
   "id": "a2dc6107",
   "metadata": {},
   "outputs": [],
   "source": [
    "AGENT_REGISTRY: Dict[str, Agent] = {\n",
    "    \"Booker\": booking_agent,\n",
    "    \"Info\": info_agent,\n",
    "}"
   ]
  },
  {
   "cell_type": "code",
   "execution_count": 83,
   "id": "9e79b3c3",
   "metadata": {},
   "outputs": [],
   "source": [
    "# LLM Setup\n",
    "\n",
    "llm_text = ChatOllama(\n",
    "    model= \"deepseek-r1:8b\",\n",
    "    temperature=0,\n",
    ")\n",
    "\n",
    "llm_json = ChatOllama(\n",
    "    model=\"deepseek-r1:8b\",\n",
    "    temperature=0,\n",
    "    format = \"json\",\n",
    ")\n",
    "\n",
    "def strip_think(text:str) -> str:\n",
    "    \"\"\"\n",
    "    Remove any < think> blocks\n",
    "    \"\"\"\n",
    "    \n",
    "    return re.sub(r\"<think>.*?</think>\\s*\", \"\", text, flags=re.DOTALL | re.IGNORECASE)\n",
    "    "
   ]
  },
  {
   "cell_type": "code",
   "execution_count": 84,
   "id": "1078ea87",
   "metadata": {},
   "outputs": [],
   "source": [
    "# to invoke chat using llm\n",
    "messages = [\n",
    "    (\"human\", \"Tell me about yourself\")\n",
    "]"
   ]
  },
  {
   "cell_type": "code",
   "execution_count": 85,
   "id": "710d054e",
   "metadata": {},
   "outputs": [],
   "source": [
    "chat_text = llm_text.invoke(messages)"
   ]
  },
  {
   "cell_type": "code",
   "execution_count": 86,
   "id": "6c411fac",
   "metadata": {},
   "outputs": [
    {
     "data": {
      "text/plain": [
       "\"<think>\\nOkay, the user asked “Tell me about yourself” – pretty common opening question! They're probably just starting to get familiar with me and want a general overview. \\n\\nHmm, this seems like a broad request but also an opportunity to set a friendly tone right from the start. The user might be curious about my capabilities or just testing how I respond. Since they didn't specify any particular topic, I should keep it balanced – cover what I am (AI assistant), what I do (helpful tasks), and who I work for (DeepSeek) without going too technical.\\n\\nI notice they used simple English with no special formatting requests, so I'll match that casual but clear style. The exclamation points in my response feel appropriate to show enthusiasm – this isn't a cold corporate introduction after all! \\n\\nThe “just your friendly AI assistant” line feels right because it humanizes me without being misleading. Mentioning the model name (DeepSeek R1) adds credibility subtly, while keeping it simple avoids overwhelming them with jargon.\\n\\nAh, and I should definitely include that offer to help further at the end – this kind of question is often just an opener for deeper conversation. The emojis feel like a good touch too, making it visually engaging but not overbearing.\\n</think>\\nSure! 😊\\n\\nI'm your friendly AI assistant, powered by **DeepSeek R1**, and I’m here to help you with anything from answering questions and solving problems to brainstorming ideas, writing content, learning new things, or just having a fun conversation. My goal is to be helpful, accurate, and easy to understand.\\n\\nI was created by **DeepSeek**, an AI company focused on building advanced language models that can assist people in creative, educational, and practical ways — like you're talking to another smart friend who knows how to help!\\n\\nWant to know more about me? Or maybe we should jump right into something you need help with? 😊\""
      ]
     },
     "execution_count": 86,
     "metadata": {},
     "output_type": "execute_result"
    }
   ],
   "source": [
    "chat_text.content"
   ]
  },
  {
   "cell_type": "code",
   "execution_count": 87,
   "id": "301164b7",
   "metadata": {},
   "outputs": [
    {
     "data": {
      "text/plain": [
       "\"Sure! 😊\\n\\nI'm your friendly AI assistant, powered by **DeepSeek R1**, and I’m here to help you with anything from answering questions and solving problems to brainstorming ideas, writing content, learning new things, or just having a fun conversation. My goal is to be helpful, accurate, and easy to understand.\\n\\nI was created by **DeepSeek**, an AI company focused on building advanced language models that can assist people in creative, educational, and practical ways — like you're talking to another smart friend who knows how to help!\\n\\nWant to know more about me? Or maybe we should jump right into something you need help with? 😊\""
      ]
     },
     "execution_count": 87,
     "metadata": {},
     "output_type": "execute_result"
    }
   ],
   "source": [
    "strip_think(chat_text.content)"
   ]
  },
  {
   "cell_type": "code",
   "execution_count": 88,
   "id": "91d09d16",
   "metadata": {},
   "outputs": [
    {
     "data": {
      "text/plain": [
       "AIMessage(content='{\\n\\n\\n  \"role\": \"assistant\",\\n  \"model\": \"gpt-3.5-turbo-0125\",\\n  \"objectives\": [\\n    {\\n      \"difficulty\": \"easy\",\\n      \"description\": \"Give a brief introduction of the assistant.\",\\n      \"isCompleted\": true\\n    }\\n  ],\\n  \"contextLength\": 1000,\\n  \"totalTokenCount\": 369,\\n  \"completionTokenCount\": 285,\\n  \"promptTokenCount\": 84,\\n  \"detectedContentTopics\": [\\n    \"Technology\"\\n  ]\\n}', additional_kwargs={}, response_metadata={'model': 'deepseek-r1:8b', 'created_at': '2025-10-09T14:03:09.964270995Z', 'done': True, 'done_reason': 'stop', 'total_duration': 33091585292, 'load_duration': 343127297, 'prompt_eval_count': 6, 'prompt_eval_duration': 345426456, 'eval_count': 126, 'eval_duration': 32393173097, 'model_name': 'deepseek-r1:8b'}, id='run--acf428a8-374b-4055-b5b0-c82c574d22b4-0', usage_metadata={'input_tokens': 6, 'output_tokens': 126, 'total_tokens': 132})"
      ]
     },
     "execution_count": 88,
     "metadata": {},
     "output_type": "execute_result"
    }
   ],
   "source": [
    "chat_json = llm_json.invoke(messages)\n",
    "chat_json"
   ]
  },
  {
   "cell_type": "code",
   "execution_count": 89,
   "id": "1bc0723b",
   "metadata": {},
   "outputs": [
    {
     "name": "stdout",
     "output_type": "stream",
     "text": [
      "{\n",
      "\n",
      "\n",
      "  \"role\": \"assistant\",\n",
      "  \"model\": \"gpt-3.5-turbo-0125\",\n",
      "  \"objectives\": [\n",
      "    {\n",
      "      \"difficulty\": \"easy\",\n",
      "      \"description\": \"Give a brief introduction of the assistant.\",\n",
      "      \"isCompleted\": true\n",
      "    }\n",
      "  ],\n",
      "  \"contextLength\": 1000,\n",
      "  \"totalTokenCount\": 369,\n",
      "  \"completionTokenCount\": 285,\n",
      "  \"promptTokenCount\": 84,\n",
      "  \"detectedContentTopics\": [\n",
      "    \"Technology\"\n",
      "  ]\n",
      "}\n"
     ]
    }
   ],
   "source": [
    "print(chat_json.content)"
   ]
  },
  {
   "cell_type": "code",
   "execution_count": 90,
   "id": "b01d5514",
   "metadata": {},
   "outputs": [],
   "source": [
    "# Implementing Routing\n",
    "\n",
    "class RouteDecision(BaseModel):\n",
    "    route: Literal[\"Booker\", \"Info\", \"Unclear\"] = Field(\n",
    "        description=\"Which sub-agent should handle this request: 'Booker' for booking flights/hotels; 'Info' for general questions; 'Unclear' if ambiguous.\"\n",
    "    )\n",
    "    reason: str = Field(description=\"Brief reason for the decision.\")"
   ]
  },
  {
   "cell_type": "code",
   "execution_count": 91,
   "id": "6ce1e8f8",
   "metadata": {},
   "outputs": [],
   "source": [
    "test_route_decsion = RouteDecision(route= \"Booker\",reason=\"not\")"
   ]
  },
  {
   "cell_type": "code",
   "execution_count": 92,
   "id": "d2466129",
   "metadata": {},
   "outputs": [
    {
     "data": {
      "text/plain": [
       "'Booker'"
      ]
     },
     "execution_count": 92,
     "metadata": {},
     "output_type": "execute_result"
    }
   ],
   "source": [
    "test_route_decsion.route"
   ]
  },
  {
   "cell_type": "code",
   "execution_count": 93,
   "id": "dfbfa8e5",
   "metadata": {},
   "outputs": [],
   "source": [
    "ROUTER_SYSTEM = \"\"\"You are the Coordinator. Your ONLY task:\n",
    "- Analyze the user's request and choose the proper sub-agent.\n",
    "- Never answer the user directly.\n",
    "- Return STRICT JSON with keys: route, reason.\n",
    "\n",
    "Routing rules:\n",
    "- If the request is about booking flights or hotels -> route = \"Booker\".\n",
    "- Otherwise, if it's a general information question -> route = \"Info\".\n",
    "- If it's ambiguous or cannot be routed -> route = \"Unclear\".\n",
    "\"\"\"\n",
    "\n",
    "ROUTER_HUMAN = \"\"\"User request:\n",
    "{request}\n",
    "\n",
    "Return JSON only, like:\n",
    "{{\"route\": \"Booker\", \"reason\": \"It's about hotel booking\"}}\n",
    "\"\"\"\n",
    "\n",
    "router_prompt = ChatPromptTemplate.from_messages(\n",
    "    [\n",
    "        (\"system\", ROUTER_SYSTEM),\n",
    "        (\"human\", ROUTER_HUMAN),\n",
    "    ]\n",
    ")\n"
   ]
  },
  {
   "cell_type": "code",
   "execution_count": 94,
   "id": "fa773554",
   "metadata": {},
   "outputs": [],
   "source": [
    "router_chain = router_prompt | llm_json|JsonOutputParser(pydantic_object=RouteDecision)\n"
   ]
  },
  {
   "cell_type": "code",
   "execution_count": 95,
   "id": "83ce99fc",
   "metadata": {},
   "outputs": [],
   "source": [
    "class Coordinator:\n",
    "    def __init__(self):\n",
    "        self.session_id = str(uuid.uuid4())\n",
    "\n",
    "    def route(self, request: str) -> RouteDecision:\n",
    "        decision: RouteDecision = router_chain.invoke({\"request\": request})\n",
    "        return decision\n",
    "\n",
    "    def handle(self, request: str) -> str:\n",
    "        print(f\"\\n--- Coordinator handling request: '{request}' ---\")\n",
    "        try:\n",
    "            decision = self.route(request)\n",
    "            print(f\"Routing -> {decision[\"route\"]} | Reason: {decision[\"reason\"]}\")\n",
    "\n",
    "            if decision[\"route\"] in AGENT_REGISTRY:\n",
    "                agent = AGENT_REGISTRY[decision[\"route\"]]\n",
    "                return agent.run(request)\n",
    "            else:\n",
    "                return unclear_handler(request)\n",
    "        except Exception as e:\n",
    "            return f\"An error occurred while processing your request: {e}\"\n",
    "    \n",
    "    "
   ]
  },
  {
   "cell_type": "code",
   "execution_count": null,
   "id": "27782cba",
   "metadata": {},
   "outputs": [
    {
     "name": "stdout",
     "output_type": "stream",
     "text": [
      "\n",
      "--- Coordinator handling request: 'Book me a hotel in Paris.' ---\n",
      "Routing -> Booker | Reason: The user is explicitly asking to book a hotel in Paris.\n",
      "-------------------------- Booking Handler Called ----------------------------\n"
     ]
    }
   ],
   "source": [
    "coordinator = Coordinator()\n",
    "c = coordinator.handle(\"Book me a hotel in Paris.\")"
   ]
  },
  {
   "cell_type": "code",
   "execution_count": 97,
   "id": "c52b42af",
   "metadata": {},
   "outputs": [
    {
     "name": "stdout",
     "output_type": "stream",
     "text": [
      "--- Ollama deepseek-r1 Routing Example (Auto-Flow Style) ---\n",
      "Note: Requires Ollama running locally with `deepseek-r1:7b` pulled.\n",
      "\n",
      "\n",
      "--- Coordinator handling request: 'Book me a hotel in Paris.' ---\n",
      "Routing -> Booker | Reason: The user is explicitly asking to book a hotel in Paris, which falls under the category of booking requests.\n",
      "-------------------------- Booking Handler Called ----------------------------\n",
      "Final Output A: Booking action for 'Book me a hotel in Paris.' has been simulated.\n",
      "\n",
      "--- Coordinator handling request: 'What is the highest mountain in the world?' ---\n",
      "Routing -> Unclear | Reason: The user asked for information about mountains but did not specify if they want to book a flight or hotel. The request does not clearly match any of the predefined routes.\n",
      "Final Output B: Coordinator could not delegate request: 'What is the highest mountain in the world?'. Please clarify.\n",
      "\n",
      "--- Coordinator handling request: 'Tell me a random fact.' ---\n",
      "Routing -> Unclear | Reason: The user asked for a random fact which doesn't clearly relate to booking flights or hotels. It could be any topic and falls under general information but is not specific enough.\n",
      "Final Output C: Coordinator could not delegate request: 'Tell me a random fact.'. Please clarify.\n",
      "\n",
      "--- Coordinator handling request: 'Find flights to Tokyo next month.' ---\n",
      "Routing -> Booker | Reason: The user is asking for flight information and booking options to Tokyo next month.\n",
      "-------------------------- Booking Handler Called ----------------------------\n",
      "Final Output D: Booking action for 'Find flights to Tokyo next month.' has been simulated.\n"
     ]
    }
   ],
   "source": [
    "def main():\n",
    "    print(\"--- Ollama deepseek-r1 Routing Example (Auto-Flow Style) ---\")\n",
    "    print(\"Note: Requires Ollama running locally with `deepseek-r1:7b` pulled.\\n\")\n",
    "\n",
    "    coordinator = Coordinator()\n",
    "\n",
    "    # Example Usage\n",
    "    result_a = coordinator.handle(\"Book me a hotel in Paris.\")\n",
    "    print(f\"Final Output A: {result_a}\")\n",
    "\n",
    "    result_b = coordinator.handle(\"What is the highest mountain in the world?\")\n",
    "    print(f\"Final Output B: {result_b}\")\n",
    "\n",
    "    result_c = coordinator.handle(\"Tell me a random fact.\")  # Should go to Info\n",
    "    print(f\"Final Output C: {result_c}\")\n",
    "\n",
    "    result_d = coordinator.handle(\"Find flights to Tokyo next month.\")  # Should go to Booker\n",
    "    print(f\"Final Output D: {result_d}\")\n",
    "\n",
    "\n",
    "if __name__ == \"__main__\":\n",
    "    main()"
   ]
  },
  {
   "cell_type": "code",
   "execution_count": null,
   "id": "24e04757",
   "metadata": {},
   "outputs": [],
   "source": []
  }
 ],
 "metadata": {
  "kernelspec": {
   "display_name": "Python 3",
   "language": "python",
   "name": "python3"
  },
  "language_info": {
   "codemirror_mode": {
    "name": "ipython",
    "version": 3
   },
   "file_extension": ".py",
   "mimetype": "text/x-python",
   "name": "python",
   "nbconvert_exporter": "python",
   "pygments_lexer": "ipython3",
   "version": "3.12.5"
  }
 },
 "nbformat": 4,
 "nbformat_minor": 5
}
